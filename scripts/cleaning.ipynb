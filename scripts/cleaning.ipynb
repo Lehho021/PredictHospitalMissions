{
 "cells": [
  {
   "cell_type": "code",
   "execution_count": 96,
   "metadata": {},
   "outputs": [],
   "source": [
    # ****Hospital Readmissions Analysis with Data Science****
# 
# This project aims to analyze and predict hospital readmissions using comprehensive data analysis techniques. 
# The analysis explores factors contributing to patient readmission rates across different medical specialties and diagnoses.
# 
# ## Contents
# 1. Import Library
# 2. Dataset
# 3. Data Preprocessing
# 4. Data Visualization
# 5. Feature Engineering
    "import pandas as pd\n",
    "import numpy as np"
   ]
  },
  {
   "cell_type": "code",
   "execution_count": 97,
   "metadata": {},
   "outputs": [],
   "source": [
    "df = pd.read_csv('hospital_readmissions.csv')"
   ]
  },
  {
   "cell_type": "code",
   "execution_count": 98,
   "metadata": {},
   "outputs": [
    {
     "name": "stdout",
     "output_type": "stream",
     "text": [
      "Informasi Dataset Awal:\n",
      "Jumlah baris: 25000\n",
      "Jumlah kolom: 17\n",
      "\n",
      "Kolom-kolom dataset:\n",
      "['age', 'time_in_hospital', 'n_lab_procedures', 'n_procedures', 'n_medications', 'n_outpatient', 'n_inpatient', 'n_emergency', 'medical_specialty', 'diag_1', 'diag_2', 'diag_3', 'glucose_test', 'A1Ctest', 'change', 'diabetes_med', 'readmitted']\n"
     ]
    }
   ],
   "source": [
    "print(\"Informasi Dataset Awal:\")\n",
    "print(f\"Jumlah baris: {len(df)}\")\n",
    "print(f\"Jumlah kolom: {len(df.columns)}\")\n",
    "print(\"\\nKolom-kolom dataset:\")\n",
    "print(df.columns.tolist())"
   ]
  },
  {
   "cell_type": "code",
   "execution_count": 99,
   "metadata": {},
   "outputs": [
    {
     "name": "stdout",
     "output_type": "stream",
     "text": [
      "       age  time_in_hospital  n_lab_procedures  n_procedures  n_medications  \\\n",
      "0  [70-80)                 8                72             1             18   \n",
      "1  [70-80)                 3                34             2             13   \n",
      "2  [50-60)                 5                45             0             18   \n",
      "3  [70-80)                 2                36             0             12   \n",
      "4  [60-70)                 1                42             0              7   \n",
      "\n",
      "   n_outpatient  n_inpatient  n_emergency medical_specialty       diag_1  \\\n",
      "0             2            0            0           Missing  Circulatory   \n",
      "1             0            0            0             Other        Other   \n",
      "2             0            0            0           Missing  Circulatory   \n",
      "3             1            0            0           Missing  Circulatory   \n",
      "4             0            0            0  InternalMedicine        Other   \n",
      "\n",
      "        diag_2       diag_3 glucose_test A1Ctest change diabetes_med  \\\n",
      "0  Respiratory        Other           no      no     no          yes   \n",
      "1        Other        Other           no      no     no          yes   \n",
      "2  Circulatory  Circulatory           no      no    yes          yes   \n",
      "3        Other     Diabetes           no      no    yes          yes   \n",
      "4  Circulatory  Respiratory           no      no     no          yes   \n",
      "\n",
      "  readmitted  \n",
      "0         no  \n",
      "1         no  \n",
      "2        yes  \n",
      "3        yes  \n",
      "4         no  \n"
     ]
    }
   ],
   "source": [
    "print(df.head())"
   ]
  },
  {
   "cell_type": "code",
   "execution_count": 100,
   "metadata": {},
   "outputs": [
    {
     "name": "stdout",
     "output_type": "stream",
     "text": [
      "age                  0\n",
      "time_in_hospital     0\n",
      "n_lab_procedures     0\n",
      "n_procedures         0\n",
      "n_medications        0\n",
      "n_outpatient         0\n",
      "n_inpatient          0\n",
      "n_emergency          0\n",
      "medical_specialty    0\n",
      "diag_1               0\n",
      "diag_2               0\n",
      "diag_3               0\n",
      "glucose_test         0\n",
      "A1Ctest              0\n",
      "change               0\n",
      "diabetes_med         0\n",
      "readmitted           0\n",
      "dtype: int64\n"
     ]
    }
   ],
   "source": [
    "print(df.isnull().sum())"
   ]
  },
  {
   "cell_type": "code",
   "execution_count": 101,
   "metadata": {},
   "outputs": [
    {
     "name": "stdout",
     "output_type": "stream",
     "text": [
      "age                  object\n",
      "time_in_hospital      int64\n",
      "n_lab_procedures      int64\n",
      "n_procedures          int64\n",
      "n_medications         int64\n",
      "n_outpatient          int64\n",
      "n_inpatient           int64\n",
      "n_emergency           int64\n",
      "medical_specialty    object\n",
      "diag_1               object\n",
      "diag_2               object\n",
      "diag_3               object\n",
      "glucose_test         object\n",
      "A1Ctest              object\n",
      "change               object\n",
      "diabetes_med         object\n",
      "readmitted           object\n",
      "dtype: object\n"
     ]
    }
   ],
   "source": [
    "print(df.dtypes)"
   ]
  },
  {
   "cell_type": "code",
   "execution_count": 102,
   "metadata": {},
   "outputs": [
    {
     "name": "stdout",
     "output_type": "stream",
     "text": [
      "       time_in_hospital  n_lab_procedures  n_procedures  n_medications  \\\n",
      "count       25000.00000       25000.00000  25000.000000   25000.000000   \n",
      "mean            4.45332          43.24076      1.352360      16.252400   \n",
      "std             3.00147          19.81862      1.715179       8.060532   \n",
      "min             1.00000           1.00000      0.000000       1.000000   \n",
      "25%             2.00000          31.00000      0.000000      11.000000   \n",
      "50%             4.00000          44.00000      1.000000      15.000000   \n",
      "75%             6.00000          57.00000      2.000000      20.000000   \n",
      "max            14.00000         113.00000      6.000000      79.000000   \n",
      "\n",
      "       n_outpatient   n_inpatient   n_emergency  \n",
      "count  25000.000000  25000.000000  25000.000000  \n",
      "mean       0.366400      0.615960      0.186600  \n",
      "std        1.195478      1.177951      0.885873  \n",
      "min        0.000000      0.000000      0.000000  \n",
      "25%        0.000000      0.000000      0.000000  \n",
      "50%        0.000000      0.000000      0.000000  \n",
      "75%        0.000000      1.000000      0.000000  \n",
      "max       33.000000     15.000000     64.000000  \n"
     ]
    }
   ],
   "source": [
    "print(df.describe())"
   ]
  },
  {
   "cell_type": "code",
   "execution_count": 103,
   "metadata": {},
   "outputs": [
    {
     "name": "stdout",
     "output_type": "stream",
     "text": [
      "Kolom yang dibersihkan: ['medical_specialty', 'diag_1', 'diag_2', 'diag_3']\n"
     ]
    }
   ],
   "source": [
    "columns_to_clean = ['medical_specialty', 'diag_1', 'diag_2', 'diag_3']\n",
    "\n",
    "for col in columns_to_clean:\n",
    "    df[col] = df[col].replace('Missing', 'Other')\n",
    "\n",
    "print(\"Kolom yang dibersihkan:\", columns_to_clean)"
   ]
  },
  {
   "cell_type": "code",
   "execution_count": 104,
   "metadata": {},
   "outputs": [
    {
     "name": "stdout",
     "output_type": "stream",
     "text": [
      "\n",
      "Verifikasi Unique Values:\n",
      "\n",
      "Unique values di kolom medical_specialty:\n",
      "medical_specialty\n",
      "Other                     15046\n",
      "InternalMedicine           3565\n",
      "Emergency/Trauma           1885\n",
      "Family/GeneralPractice     1882\n",
      "Cardiology                 1409\n",
      "Surgery                    1213\n",
      "Name: count, dtype: int64\n",
      "\n",
      "Unique values di kolom diag_1:\n",
      "diag_1\n",
      "Circulatory        7824\n",
      "Other              6502\n",
      "Respiratory        3680\n",
      "Digestive          2329\n",
      "Diabetes           1747\n",
      "Injury             1666\n",
      "Musculoskeletal    1252\n",
      "Name: count, dtype: int64\n",
      "\n",
      "Unique values di kolom diag_2:\n",
      "diag_2\n",
      "Other              9098\n",
      "Circulatory        8134\n",
      "Diabetes           2906\n",
      "Respiratory        2872\n",
      "Digestive           973\n",
      "Injury              591\n",
      "Musculoskeletal     426\n",
      "Name: count, dtype: int64\n",
      "\n",
      "Unique values di kolom diag_3:\n",
      "diag_3\n",
      "Other              9303\n",
      "Circulatory        7686\n",
      "Diabetes           4261\n",
      "Respiratory        1915\n",
      "Digestive           916\n",
      "Injury              464\n",
      "Musculoskeletal     455\n",
      "Name: count, dtype: int64\n"
     ]
    }
   ],
   "source": [
    "print(\"\\nVerifikasi Unique Values:\")\n",
    "for col in columns_to_clean:\n",
    "    print(f\"\\nUnique values di kolom {col}:\")\n",
    "    print(df[col].value_counts())"
   ]
  },
  {
   "cell_type": "code",
   "execution_count": 105,
   "metadata": {},
   "outputs": [
    {
     "name": "stdout",
     "output_type": "stream",
     "text": [
      "   age  time_in_hospital  n_lab_procedures  n_procedures  n_medications  \\\n",
      "0   75                 8                72             1             18   \n",
      "1   75                 3                34             2             13   \n",
      "2   55                 5                45             0             18   \n",
      "3   75                 2                36             0             12   \n",
      "4   65                 1                42             0              7   \n",
      "5   45                 2                51             0             10   \n",
      "6   55                 4                44             2             21   \n",
      "7   65                 1                19             6             16   \n",
      "8   85                 4                67             3             13   \n",
      "9   75                 8                37             1             18   \n",
      "\n",
      "   n_outpatient  n_inpatient  n_emergency       medical_specialty  \\\n",
      "0             2            0            0                   Other   \n",
      "1             0            0            0                   Other   \n",
      "2             0            0            0                   Other   \n",
      "3             1            0            0                   Other   \n",
      "4             0            0            0        InternalMedicine   \n",
      "5             0            0            0                   Other   \n",
      "6             0            0            0                   Other   \n",
      "7             0            0            1                   Other   \n",
      "8             0            0            0        InternalMedicine   \n",
      "9             0            0            0  Family/GeneralPractice   \n",
      "\n",
      "        diag_1       diag_2       diag_3 glucose_test A1Ctest change  \\\n",
      "0  Circulatory  Respiratory        Other           no      no     no   \n",
      "1        Other        Other        Other           no      no     no   \n",
      "2  Circulatory  Circulatory  Circulatory           no      no    yes   \n",
      "3  Circulatory        Other     Diabetes           no      no    yes   \n",
      "4        Other  Circulatory  Respiratory           no      no     no   \n",
      "5        Other        Other        Other           no      no     no   \n",
      "6       Injury        Other        Other           no  normal    yes   \n",
      "7  Circulatory        Other        Other           no      no     no   \n",
      "8    Digestive        Other        Other           no      no     no   \n",
      "9  Respiratory  Respiratory        Other           no      no    yes   \n",
      "\n",
      "  diabetes_med readmitted  \n",
      "0          yes         no  \n",
      "1          yes         no  \n",
      "2          yes        yes  \n",
      "3          yes        yes  \n",
      "4          yes         no  \n",
      "5           no        yes  \n",
      "6          yes         no  \n",
      "7          yes        yes  \n",
      "8           no        yes  \n",
      "9          yes         no  \n"
     ]
    }
   ],
   "source": [
    "df['age_lower'] = df['age'].str.extract(r'\\[(\\d+)-').astype(int)\n",
    "df['age_upper'] = df['age'].str.extract(r'-(\\d+)\\)').astype(int)\n",
    "df['age'] = ((df['age_lower'] + df['age_upper']) / 2).astype(int)\n",
    "df = df.drop(['age_lower', 'age_upper'], axis=1)\n",
    "\n",
    "print(df.head(10))"
   ]
  },
  {
   "cell_type": "code",
   "execution_count": 106,
   "metadata": {},
   "outputs": [
    {
     "name": "stdout",
     "output_type": "stream",
     "text": [
      "Total Procedures Test\n",
      "   n_lab_procedures  n_procedures  total_procedures_tests\n",
      "0                72             1                      73\n",
      "1                34             2                      36\n",
      "2                45             0                      45\n",
      "3                36             0                      36\n",
      "4                42             0                      42\n",
      "5                51             0                      51\n",
      "6                44             2                      46\n",
      "7                19             6                      25\n",
      "8                67             3                      70\n",
      "9                37             1                      38\n"
     ]
    }
   ],
   "source": [
    "df['total_procedures_tests'] = df['n_lab_procedures'] + df['n_procedures']\n",
    "print(\"Total Procedures Test\")\n",
    "print(df[['n_lab_procedures', 'n_procedures', 'total_procedures_tests']].head(10))"
   ]
  },
  {
   "cell_type": "code",
   "execution_count": 107,
   "metadata": {},
   "outputs": [
    {
     "name": "stdout",
     "output_type": "stream",
     "text": [
      "Total Visit:\n",
      "   n_outpatient  n_inpatient  n_emergency  total_visits\n",
      "0             2            0            0             2\n",
      "1             0            0            0             0\n",
      "2             0            0            0             0\n",
      "3             1            0            0             1\n",
      "4             0            0            0             0\n",
      "5             0            0            0             0\n",
      "6             0            0            0             0\n",
      "7             0            0            1             1\n",
      "8             0            0            0             0\n",
      "9             0            0            0             0\n"
     ]
    }
   ],
   "source": [
    "df['total_visits'] = df['n_outpatient'] + df['n_inpatient'] + df['n_emergency']\n",
    "print(\"Total Visit:\")\n",
    "print(df[['n_outpatient', 'n_inpatient', 'n_emergency', 'total_visits']].head(10))"
   ]
  },
  {
   "cell_type": "code",
   "execution_count": 108,
   "metadata": {},
   "outputs": [
    {
     "name": "stdout",
     "output_type": "stream",
     "text": [
      "Medications Per Day:\n",
      "   n_medications  time_in_hospital  medications_per_day\n",
      "0             18                 8                 2.25\n",
      "1             13                 3                 4.33\n",
      "2             18                 5                 3.60\n",
      "3             12                 2                 6.00\n",
      "4              7                 1                 7.00\n",
      "5             10                 2                 5.00\n",
      "6             21                 4                 5.25\n",
      "7             16                 1                16.00\n",
      "8             13                 4                 3.25\n",
      "9             18                 8                 2.25\n"
     ]
    }
   ],
   "source": [
    "df['medications_per_day'] = round(df['n_medications'] / df['time_in_hospital'].replace(0, 1), 2)\n",
    "print(\"Medications Per Day:\")\n",
    "print(df[['n_medications', 'time_in_hospital', 'medications_per_day']].head(10))"
   ]
  },
  {
   "cell_type": "code",
   "execution_count": 109,
   "metadata": {},
   "outputs": [
    {
     "name": "stdout",
     "output_type": "stream",
     "text": [
      "Case Complexity:\n",
      "   n_procedures  n_lab_procedures  n_medications  case_complexity\n",
      "0             1                72             18               91\n",
      "1             2                34             13               49\n",
      "2             0                45             18               63\n",
      "3             0                36             12               48\n",
      "4             0                42              7               49\n",
      "5             0                51             10               61\n",
      "6             2                44             21               67\n",
      "7             6                19             16               41\n",
      "8             3                67             13               83\n",
      "9             1                37             18               56\n"
     ]
    }
   ],
   "source": [
    "df['case_complexity'] = df['n_procedures'] + df['n_lab_procedures'] + df['n_medications']\n",
    "print(\"Case Complexity:\")\n",
    "print(df[['n_procedures', 'n_lab_procedures', 'n_medications', 'case_complexity']].head(10))"
   ]
  },
  {
   "cell_type": "code",
   "execution_count": 110,
   "metadata": {},
   "outputs": [
    {
     "name": "stdout",
     "output_type": "stream",
     "text": [
      "Emergency:\n",
      "   n_emergency  has_emergency\n",
      "0            0              0\n",
      "1            0              0\n",
      "2            0              0\n",
      "3            0              0\n",
      "4            0              0\n",
      "5            0              0\n",
      "6            0              0\n",
      "7            1              1\n",
      "8            0              0\n",
      "9            0              0\n",
      "\n",
      "==================================================\n",
      "\n"
     ]
    }
   ],
   "source": [
    "df['has_emergency'] = (df['n_emergency'] > 0).astype(int)\n",
    "print(\"Emergency:\")\n",
    "print(df[['n_emergency', 'has_emergency']].head(10))\n",
    "print(\"\\n\" + \"=\"*50 + \"\\n\")\n",
    "\n"
   ]
  },
  {
   "cell_type": "code",
   "execution_count": 111,
   "metadata": {},
   "outputs": [
    {
     "name": "stdout",
     "output_type": "stream",
     "text": [
      "Diabetes Diagnosis:\n",
      "        diag_1       diag_2       diag_3  has_diabetes_diagnosis\n",
      "0  Circulatory  Respiratory        Other                       0\n",
      "1        Other        Other        Other                       0\n",
      "2  Circulatory  Circulatory  Circulatory                       0\n",
      "3  Circulatory        Other     Diabetes                       1\n",
      "4        Other  Circulatory  Respiratory                       0\n",
      "5        Other        Other        Other                       0\n",
      "6       Injury        Other        Other                       0\n",
      "7  Circulatory        Other        Other                       0\n",
      "8    Digestive        Other        Other                       0\n",
      "9  Respiratory  Respiratory        Other                       0\n",
      "\n",
      "==================================================\n",
      "\n",
      "Multiple Diagnoses:\n",
      "        diag_1       diag_2       diag_3  multiple_diagnoses\n",
      "0  Circulatory  Respiratory        Other                   1\n",
      "1        Other        Other        Other                   0\n",
      "2  Circulatory  Circulatory  Circulatory                   0\n",
      "3  Circulatory        Other     Diabetes                   1\n",
      "4        Other  Circulatory  Respiratory                   1\n",
      "5        Other        Other        Other                   0\n",
      "6       Injury        Other        Other                   0\n",
      "7  Circulatory        Other        Other                   0\n",
      "8    Digestive        Other        Other                   0\n",
      "9  Respiratory  Respiratory        Other                   0\n",
      "\n",
      "==================================================\n",
      "\n"
     ]
    }
   ],
   "source": [
    "df['has_diabetes_diagnosis'] = ((df['diag_1'] == 'Diabetes') | (df['diag_2'] == 'Diabetes') | (df['diag_3'] == 'Diabetes')).astype(int)\n",
    "df['multiple_diagnoses'] = ((df['diag_1'] != df['diag_2']) & (df['diag_2'] != df['diag_3']) & (df['diag_1'] != df['diag_3'])).astype(int)\n",
    "\n",
    "\n",
    "print(\"Diabetes Diagnosis:\")\n",
    "print(df[['diag_1', 'diag_2', 'diag_3', 'has_diabetes_diagnosis']].head(10))\n",
    "print(\"\\n\" + \"=\"*50 + \"\\n\")\n",
    "\n",
    "print(\"Multiple Diagnoses:\")\n",
    "print(df[['diag_1', 'diag_2', 'diag_3', 'multiple_diagnoses']].head(10))\n",
    "print(\"\\n\" + \"=\"*50 + \"\\n\")"
   ]
  },
  {
   "cell_type": "code",
   "execution_count": 112,
   "metadata": {},
   "outputs": [
    {
     "name": "stdout",
     "output_type": "stream",
     "text": [
      "   age  total_procedures_tests  total_visits  medications_per_day  \\\n",
      "0   75                      73             2                 2.25   \n",
      "1   75                      36             0                 4.33   \n",
      "2   55                      45             0                 3.60   \n",
      "3   75                      36             1                 6.00   \n",
      "4   65                      42             0                 7.00   \n",
      "\n",
      "   case_complexity  has_emergency  multiple_diagnoses  has_diabetes_diagnosis  \n",
      "0               91              0                   1                       0  \n",
      "1               49              0                   0                       0  \n",
      "2               63              0                   0                       0  \n",
      "3               48              0                   1                       1  \n",
      "4               49              0                   1                       0  \n"
     ]
    }
   ],
   "source": [
    "print(df[['age', 'total_procedures_tests', 'total_visits', \n",
    "          'medications_per_day', 'case_complexity', 'has_emergency', \n",
    "          'multiple_diagnoses', 'has_diabetes_diagnosis']].head())"
   ]
  },
  {
   "cell_type": "code",
   "execution_count": 113,
   "metadata": {},
   "outputs": [
    {
     "name": "stdout",
     "output_type": "stream",
     "text": [
      "Total Patients: 25000\n"
     ]
    }
   ],
   "source": [
    "total_patients = len(df)\n",
    "\n",
    "print(f\"Total Patients: {total_patients}\")"
   ]
  },
  {
   "cell_type": "code",
   "execution_count": 114,
   "metadata": {},
   "outputs": [
    {
     "name": "stdout",
     "output_type": "stream",
     "text": [
      "Top 5 Medical Specialties for Readmitted Patients:\n",
      "                        Count  Percentage (%)\n",
      "medical_specialty                            \n",
      "Other                    7161           28.64\n",
      "InternalMedicine         1596            6.38\n",
      "Family/GeneralPractice    932            3.73\n",
      "Emergency/Trauma          931            3.72\n",
      "Cardiology                634            2.54\n",
      "\n",
      "\n"
     ]
    }
   ],
   "source": [
    "readmitted_specialties = df[df['readmitted'] == 'yes']['medical_specialty'].value_counts().head(5)\n",
    "readmitted_specialties_pct = (readmitted_specialties / total_patients * 100).round(2)\n",
    "\n",
    "print(\"Top 5 Medical Specialties for Readmitted Patients:\")\n",
    "readmitted_specialties_df = pd.DataFrame({\n",
    "    'Count': readmitted_specialties,\n",
    "    'Percentage (%)': readmitted_specialties_pct\n",
    "})\n",
    "print(readmitted_specialties_df)\n",
    "print(\"\\n\")"
   ]
  },
  {
   "cell_type": "code",
   "execution_count": 115,
   "metadata": {},
   "outputs": [
    {
     "name": "stdout",
     "output_type": "stream",
     "text": [
      "Top 5 Medical Specialties for Non-Readmitted Patients:\n",
      "                        Count  Percentage (%)\n",
      "medical_specialty                            \n",
      "Other                    7885           31.54\n",
      "InternalMedicine         1969            7.88\n",
      "Emergency/Trauma          954            3.82\n",
      "Family/GeneralPractice    950            3.80\n",
      "Cardiology                775            3.10\n",
      "\n",
      "\n"
     ]
    }
   ],
   "source": [
    "non_readmitted_specialties = df[df['readmitted'] == 'no']['medical_specialty'].value_counts().head(5)\n",
    "non_readmitted_specialties_pct = (non_readmitted_specialties / total_patients * 100).round(2)\n",
    "\n",
    "print(\"Top 5 Medical Specialties for Non-Readmitted Patients:\")\n",
    "non_readmitted_specialties_df = pd.DataFrame({\n",
    "    'Count': non_readmitted_specialties,\n",
    "    'Percentage (%)': non_readmitted_specialties_pct\n",
    "})\n",
    "print(non_readmitted_specialties_df)\n",
    "print(\"\\n\")\n"
   ]
  },
  {
   "cell_type": "code",
   "execution_count": 116,
   "metadata": {},
   "outputs": [
    {
     "name": "stdout",
     "output_type": "stream",
     "text": [
      "Top 5 Diagnoses for Readmitted Patients:\n",
      "             Count  Percentage (%)\n",
      "diag_1                            \n",
      "Circulatory   3750           15.00\n",
      "Other         2934           11.74\n",
      "Respiratory   1806            7.22\n",
      "Digestive     1105            4.42\n",
      "Diabetes       937            3.75\n",
      "\n",
      "\n"
     ]
    }
   ],
   "source": [
    "readmitted_diagnoses = df[df['readmitted'] == 'yes']['diag_1'].value_counts().head(5)\n",
    "readmitted_diagnoses_pct = (readmitted_diagnoses / total_patients * 100).round(2)\n",
    "\n",
    "print(\"Top 5 Diagnoses for Readmitted Patients:\")\n",
    "readmitted_diagnoses_df = pd.DataFrame({\n",
    "    'Count': readmitted_diagnoses,\n",
    "    'Percentage (%)': readmitted_diagnoses_pct\n",
    "})\n",
    "print(readmitted_diagnoses_df)\n",
    "print(\"\\n\")\n"
   ]
  },
  {
   "cell_type": "code",
   "execution_count": 117,
   "metadata": {},
   "outputs": [
    {
     "name": "stdout",
     "output_type": "stream",
     "text": [
      "Top 5 Diagnoses for Non-Readmitted Patients:\n",
      "             Count  Percentage (%)\n",
      "diag_1                            \n",
      "Circulatory   4074           16.30\n",
      "Other         3568           14.27\n",
      "Respiratory   1874            7.50\n",
      "Digestive     1224            4.90\n",
      "Injury         939            3.76\n",
      "\n",
      "\n"
     ]
    }
   ],
   "source": [
    "non_readmitted_diagnoses = df[df['readmitted'] == 'no']['diag_1'].value_counts().head(5)\n",
    "non_readmitted_diagnoses_pct = (non_readmitted_diagnoses / total_patients * 100).round(2)\n",
    "\n",
    "print(\"Top 5 Diagnoses for Non-Readmitted Patients:\")\n",
    "non_readmitted_diagnoses_df = pd.DataFrame({\n",
    "    'Count': non_readmitted_diagnoses,\n",
    "    'Percentage (%)': non_readmitted_diagnoses_pct\n",
    "})\n",
    "print(non_readmitted_diagnoses_df)\n",
    "print(\"\\n\")"
   ]
  },
  {
   "cell_type": "code",
   "execution_count": 118,
   "metadata": {},
   "outputs": [
    {
     "name": "stdout",
     "output_type": "stream",
     "text": [
      "Readmission Rates by Medical Specialty:\n",
      "                        Total_Patients  Readmitted_Patients  \\\n",
      "medical_specialty                                             \n",
      "Family/GeneralPractice            1882                  932   \n",
      "Emergency/Trauma                  1885                  931   \n",
      "Other                            15046                 7161   \n",
      "Cardiology                        1409                  634   \n",
      "InternalMedicine                  3565                 1596   \n",
      "\n",
      "                        Readmission Rate (%)  \n",
      "medical_specialty                             \n",
      "Family/GeneralPractice                 49.52  \n",
      "Emergency/Trauma                       49.39  \n",
      "Other                                  47.59  \n",
      "Cardiology                             45.00  \n",
      "InternalMedicine                       44.77  \n",
      "\n",
      "\n"
     ]
    }
   ],
   "source": [
    "grouped = df.groupby('medical_specialty').agg(\n",
    "    Total_Patients=('readmitted', 'count'),\n",
    "    Readmitted_Patients=('readmitted', lambda x: (x == 'yes').sum())\n",
    ")\n",
    "\n",
    "grouped['Readmission Rate (%)'] = (grouped['Readmitted_Patients'] / grouped['Total_Patients'] * 100).round(2)\n",
    "\n",
    "readmission_specialty_rates = grouped.sort_values('Readmission Rate (%)', ascending=False).head(5)\n",
    "\n",
    "print(\"Readmission Rates by Medical Specialty:\")\n",
    "print(readmission_specialty_rates)\n",
    "print(\"\\n\")"
   ]
  },
  {
   "cell_type": "code",
   "execution_count": 119,
   "metadata": {},
   "outputs": [
    {
     "name": "stdout",
     "output_type": "stream",
     "text": [
      "Readmission Rates by Primary Diagnosis:\n",
      "             Total_Patients  Readmitted_Patients  Readmission Rate (%)\n",
      "diag_1                                                                \n",
      "Diabetes               1747                  937                 53.63\n",
      "Respiratory            3680                 1806                 49.08\n",
      "Circulatory            7824                 3750                 47.93\n",
      "Digestive              2329                 1105                 47.45\n",
      "Other                  6502                 2934                 45.12\n"
     ]
    }
   ],
   "source": [
    "grouped_diag = df.groupby('diag_1').agg(\n",
    "    Total_Patients=('readmitted', 'count'),\n",
    "    Readmitted_Patients=('readmitted', lambda x: (x == 'yes').sum())\n",
    ")\n",
    "\n",
    "grouped_diag['Readmission Rate (%)'] = (grouped_diag['Readmitted_Patients'] / grouped_diag['Total_Patients'] * 100).round(2)\n",
    "\n",
    "readmission_diagnosis_rates = grouped_diag.sort_values('Readmission Rate (%)', ascending=False).head(5)\n",
    "\n",
    "print(\"Readmission Rates by Primary Diagnosis:\")\n",
    "print(readmission_diagnosis_rates)"
   ]
  },
  {
   "cell_type": "code",
   "execution_count": 120,
   "metadata": {},
   "outputs": [
    {
     "name": "stdout",
     "output_type": "stream",
     "text": [
      "   age  time_in_hospital  n_lab_procedures  n_procedures  n_medications  \\\n",
      "0   75                 8                72             1             18   \n",
      "1   75                 3                34             2             13   \n",
      "2   55                 5                45             0             18   \n",
      "3   75                 2                36             0             12   \n",
      "4   65                 1                42             0              7   \n",
      "\n",
      "   n_outpatient  n_inpatient  n_emergency medical_specialty       diag_1  ...  \\\n",
      "0             2            0            0             Other  Circulatory  ...   \n",
      "1             0            0            0             Other        Other  ...   \n",
      "2             0            0            0             Other  Circulatory  ...   \n",
      "3             1            0            0             Other  Circulatory  ...   \n",
      "4             0            0            0  InternalMedicine        Other  ...   \n",
      "\n",
      "  change diabetes_med readmitted total_procedures_tests total_visits  \\\n",
      "0     no          yes         no                     73            2   \n",
      "1     no          yes         no                     36            0   \n",
      "2    yes          yes        yes                     45            0   \n",
      "3    yes          yes        yes                     36            1   \n",
      "4     no          yes         no                     42            0   \n",
      "\n",
      "  medications_per_day case_complexity  has_emergency  has_diabetes_diagnosis  \\\n",
      "0                2.25              91              0                       0   \n",
      "1                4.33              49              0                       0   \n",
      "2                3.60              63              0                       0   \n",
      "3                6.00              48              0                       1   \n",
      "4                7.00              49              0                       0   \n",
      "\n",
      "   multiple_diagnoses  \n",
      "0                   1  \n",
      "1                   0  \n",
      "2                   0  \n",
      "3                   1  \n",
      "4                   1  \n",
      "\n",
      "[5 rows x 24 columns]\n"
     ]
    }
   ],
   "source": [
    "print(df.head())"
   ]
  },
  {
   "cell_type": "code",
   "execution_count": 121,
   "metadata": {},
   "outputs": [],
   "source": [
    "df.to_csv('hospital_readmissions_cleaned.csv', index=False)"
   ]
  }
 ],
 "metadata": {
  "kernelspec": {
   "display_name": "Python 3",
   "language": "python",
   "name": "python3"
  },
  "language_info": {
   "codemirror_mode": {
    "name": "ipython",
    "version": 3
   },
   "file_extension": ".py",
   "mimetype": "text/x-python",
   "name": "python",
   "nbconvert_exporter": "python",
   "pygments_lexer": "ipython3",
   "version": "3.11.1"
  }
 },
 "nbformat": 4,
 "nbformat_minor": 2
}
